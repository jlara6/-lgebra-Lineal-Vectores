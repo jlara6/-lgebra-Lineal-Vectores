{
  "nbformat": 4,
  "nbformat_minor": 0,
  "metadata": {
    "kernelspec": {
      "display_name": "Python 3",
      "language": "python",
      "name": "python3"
    },
    "language_info": {
      "codemirror_mode": {
        "name": "ipython",
        "version": 3
      },
      "file_extension": ".py",
      "mimetype": "text/x-python",
      "name": "python",
      "nbconvert_exporter": "python",
      "pygments_lexer": "ipython3",
      "version": "3.7.3"
    },
    "colab": {
      "name": "05_IALV_Funciones_Lineales.ipynb",
      "provenance": [],
      "collapsed_sections": [],
      "include_colab_link": true
    }
  },
  "cells": [
    {
      "cell_type": "markdown",
      "metadata": {
        "id": "view-in-github",
        "colab_type": "text"
      },
      "source": [
        "<a href=\"https://colab.research.google.com/github/jlara6/Algebra-Lineal-Vectores/blob/master/Funciones_Lineales.ipynb\" target=\"_parent\"><img src=\"https://colab.research.google.com/assets/colab-badge.svg\" alt=\"Open In Colab\"/></a>"
      ]
    },
    {
      "cell_type": "markdown",
      "metadata": {
        "id": "PD1FcF_ilIZY"
      },
      "source": [
        "# 5. Funciones Lineales"
      ]
    },
    {
      "cell_type": "markdown",
      "metadata": {
        "id": "1GKE48I-lIZh"
      },
      "source": [
        "La notación $f: \\mathbb{R}^{n}\\to \\mathbb{R}$ significa que $f$ es una función con **dominio** en $\\mathbb{R}^{n}$ e imagen en $\\mathbb{R}$, es decir, que toma un $n$-vector y lo convierte en un escalar.  \n",
        "La función puede denotarse como $f\\left(\\mathbf{x}\\right)= f\\left(x_{0},x_{1},\\dots,x_{n-1}\\right)$ donde $\\mathbf{x}\\in \\mathbb{R}^{n}$ y $x_{i}$ son las entradas del vector.  \n",
        "\n",
        "Es necesario enfatizar que $f(\\mathbf{x})$ es un escalar. "
      ]
    },
    {
      "cell_type": "markdown",
      "metadata": {
        "id": "vW9SszswlIZi"
      },
      "source": [
        "Para describir una función $f: \\mathbb{R}^{n} \\to \\mathbb{R}$ tenemos que especificar el cual es el valor para cualquier vector $\\mathbf{x}\\in\\mathbb{R}^{n}$. Por ejemplo, sea $f: \\mathbb{R}^{4} \\to \\mathbb{R}$ definida por\n",
        "$$\n",
        "f(\\mathbf{x}) = x_{0} + x_{1} + x_{2} + x_{3}\n",
        "$$"
      ]
    },
    {
      "cell_type": "markdown",
      "metadata": {
        "id": "Mkm7W-CtlIZj"
      },
      "source": [
        "Así pues el valor de cualquier $4$-vector queda bien definido, por ejemplo:\n",
        "\n",
        "* $f(\\mathbf{0}) = 0 + 0+ 0+0 = 0$\n",
        "\n",
        "* $f([1\\; 0\\; 0\\; 0]) = 1+0+0+0 = 1$\n",
        "\n",
        "* $f([1\\; 1\\; 1\\; 1]) = 1+1+1+1 = 4$"
      ]
    },
    {
      "cell_type": "code",
      "metadata": {
        "id": "u6edZNH7lIZk"
      },
      "source": [
        "import numpy as np"
      ],
      "execution_count": null,
      "outputs": []
    },
    {
      "cell_type": "code",
      "metadata": {
        "id": "-Mep5xx4lIZk"
      },
      "source": [
        "def f(x):\n",
        "    return np.sum(x)"
      ],
      "execution_count": null,
      "outputs": []
    },
    {
      "cell_type": "code",
      "metadata": {
        "id": "m3I-YvEylIZl",
        "outputId": "46b35495-4d2b-4199-e54b-241652ddb72d"
      },
      "source": [
        "print('f(0) = ',f(np.array([0,0,0,0])))"
      ],
      "execution_count": null,
      "outputs": [
        {
          "output_type": "stream",
          "text": [
            "f(0) =  0\n"
          ],
          "name": "stdout"
        }
      ]
    },
    {
      "cell_type": "code",
      "metadata": {
        "id": "tgT2NP9QlIZn",
        "outputId": "cb568dca-9f90-4d4b-d9dd-5497b2c53487"
      },
      "source": [
        "print('f([1,0,0,0]) = ',f(np.array([1,0,0,0])))"
      ],
      "execution_count": null,
      "outputs": [
        {
          "output_type": "stream",
          "text": [
            "f([1,0,0,0]) =  1\n"
          ],
          "name": "stdout"
        }
      ]
    },
    {
      "cell_type": "code",
      "metadata": {
        "id": "1Ef_OUv9lIZo",
        "outputId": "40a7e4ee-98a2-40b1-db99-bdafcbae04dd"
      },
      "source": [
        "print('f([1,1,1,1]) = ',f(np.array([1,1,1,1])))"
      ],
      "execution_count": null,
      "outputs": [
        {
          "output_type": "stream",
          "text": [
            "f([1,1,1,1]) =  4\n"
          ],
          "name": "stdout"
        }
      ]
    },
    {
      "cell_type": "markdown",
      "metadata": {
        "id": "9C7Ceg3zlIZo"
      },
      "source": [
        "Como otro ejemplo, sea $g: \\mathbb{R}^{3} \\to \\mathbb{R}$ definida por \n",
        "$$\n",
        "g(\\mathbf{x}) = x_{0}\n",
        "$$"
      ]
    },
    {
      "cell_type": "markdown",
      "metadata": {
        "id": "2HRPlEyplIZp"
      },
      "source": [
        "Tenemos entonces:\n",
        "\n",
        "* $g(\\mathbf{0}) = 0$ \n",
        "\n",
        "* $g([0\\; 0\\; 1]) = 0$\n",
        "\n",
        "* $g([1\\; 0\\; 4]) = 1$"
      ]
    },
    {
      "cell_type": "code",
      "metadata": {
        "id": "PP-8ntVqlIZp"
      },
      "source": [
        "def g(x):\n",
        "    return x[0]"
      ],
      "execution_count": null,
      "outputs": []
    },
    {
      "cell_type": "code",
      "metadata": {
        "id": "3oOsPmnElIZq",
        "outputId": "b0fa22ed-bf3b-4b0a-9220-4ff7b8496c41"
      },
      "source": [
        "print('g(0) = ',g(np.array([0,0,0])))"
      ],
      "execution_count": null,
      "outputs": [
        {
          "output_type": "stream",
          "text": [
            "g(0) =  0\n"
          ],
          "name": "stdout"
        }
      ]
    },
    {
      "cell_type": "code",
      "metadata": {
        "id": "HOxXF8v1lIZq",
        "outputId": "0e3d6d53-7a11-4dcd-f74a-fd5e2040dac5"
      },
      "source": [
        "print('g([0,0,1]) = ',g(np.array([0,0,1])))"
      ],
      "execution_count": null,
      "outputs": [
        {
          "output_type": "stream",
          "text": [
            "g([0,0,1]) =  0\n"
          ],
          "name": "stdout"
        }
      ]
    },
    {
      "cell_type": "code",
      "metadata": {
        "id": "XjFZo2MllIZr",
        "outputId": "63596f0c-b6a2-45d0-9948-d5b895ec537d"
      },
      "source": [
        "print('g([1,0,4]) = ',g(np.array([1,0,4])))"
      ],
      "execution_count": null,
      "outputs": [
        {
          "output_type": "stream",
          "text": [
            "g([1,0,4]) =  1\n"
          ],
          "name": "stdout"
        }
      ]
    },
    {
      "cell_type": "markdown",
      "metadata": {
        "id": "y81i92jplIZr"
      },
      "source": [
        "Podemos notar que en este caso $f(\\mathbf{x})$ corresponde a la _función suma_ y $g(\\mathbf{x})$ a proyección sobre $x_{0}$."
      ]
    },
    {
      "cell_type": "markdown",
      "metadata": {
        "id": "sObEzj8-lIZr"
      },
      "source": [
        "## 5.1 Algunas funciones"
      ]
    },
    {
      "cell_type": "markdown",
      "metadata": {
        "id": "ftg8TmB0lIZs"
      },
      "source": [
        "**Función producto interno**. Si una función tiene como aurgmentos dos $n$-vectores el dominio de la función se expresará como $\\mathbb{R}^{n}\\times\\mathbb{R}^{n}$. Por ejemplo, sea $f:\\mathbb{R}^{n}\\times\\mathbb{R}^{n} \\to \\mathbb{R}$ definida por:\n",
        "\n",
        "$$\n",
        "f(\\mathbf{a},\\mathbf{b}) = a_{0}b_{0} + a_{1}b_{1} + \\cdots + a_{n-1}b_{n-1}\n",
        "$$"
      ]
    },
    {
      "cell_type": "markdown",
      "metadata": {
        "id": "xVII2YqBlIZs"
      },
      "source": [
        "Notemos que podemos expresar lo anterior como\n",
        "\n",
        "$$\n",
        "f(\\mathbf{a},\\mathbf{b}) = \\mathbf{a}^{T}\\mathbf{b}\n",
        "$$\n",
        "\n",
        "Esta función recibe el nombre de función producto interno. Si quisieramos dejar fijo un vector, digamos el vector $\\mathbf{a}$ podemos recurrir a la siguiente notación:\n",
        "\n",
        "$$\n",
        "f_{\\mathbf{a}}(\\mathbf{b}) = \\mathbf{a}^{T}\\mathbf{b}\n",
        "$$\n",
        "\n",
        "Esto significará que $\\mathbf{a}$ estará fijo mientras que $\\mathbf{b}$ será el que variará. "
      ]
    },
    {
      "cell_type": "markdown",
      "metadata": {
        "id": "RxBzFU9XlIZt"
      },
      "source": [
        "**Superposición y linealidad.** La función producto interno satisface la siguiente propiedad:\n",
        "\n",
        "$$\n",
        "\\begin{eqnarray}\n",
        "f_\\mathbf{x}(\\alpha\\mathbf{a}+\\beta\\mathbf{b}) &=& \\mathbf{x}^{T}(\\alpha\\mathbf{a}+\\beta\\mathbf{b}) \\\\\n",
        " &=& \\mathbf{x}^{T}(\\alpha\\mathbf{a})+\\mathbf{x}^{T}(\\beta\\mathbf{b}) \\\\\n",
        " &=& \\alpha(\\mathbf{x}^{T}\\mathbf{a}) + \\beta(\\mathbf{x}^{T}\\mathbf{b}) \\\\\n",
        " &=& \\alpha f_{\\mathbf{x}}(\\mathbf{a}) + \\beta f_{\\mathbf{x}}(\\mathbf{b})\n",
        "\\end{eqnarray}\n",
        "$$\n",
        "\n",
        "Si la función $g$ cumple que $g(\\alpha\\mathbf{x}+\\beta\\mathbf{y}) = \\alpha g(\\mathbf{x})+\\beta g(\\mathbf{y})$ decimos que la función $g$ es una **función lineal.** "
      ]
    },
    {
      "cell_type": "markdown",
      "metadata": {
        "id": "0VsuZQxAlIZt"
      },
      "source": [
        "Si $f$ es una función lineal la _linearidad_ se extiende a cualquier combinación lineal y no solamente a una combinación de dos vectores, tenemos \n",
        "\n",
        "$$\n",
        "f(\\alpha_{0}\\mathbf{x_{0}} + \\alpha_{1}\\mathbf{x_{1}} + \\alpha_{2}\\mathbf{x_{2}} + \\cdots \n",
        " + \\alpha_{n-1}\\mathbf{x_{n-1}}) = \\alpha_{0}f(\\mathbf{x_{0}}) + \\alpha_{1}f(\\mathbf{x_{1}}) + \\alpha_{2}f(\\mathbf{x_{2}}) + \\cdots + \\alpha_{n-1}f(\\mathbf{x_{n-1}})\n",
        "$$\n"
      ]
    },
    {
      "cell_type": "markdown",
      "metadata": {
        "id": "kTuYyiQ7lIZu"
      },
      "source": [
        "Si una función $g:\\mathbf{R}^{n} \\to \\mathbf{R}$ es lineal sabemo que cumple $g(\\alpha\\mathbf{x}+\\beta\\mathbf{y}) = \\alpha g(\\mathbf{x})+\\beta g(\\mathbf{y})$, propiedad que llamaremos _superposición_. Ahora, la superposición puede ser separada en dos propiedades:\n",
        "\n",
        "* _Homogeneidad_. Para cualquier $n$-vector $\\mathbf{x}$ y cualquier escalar $\\alpha$ tenemos que $g(\\alpha \\mathbf{x}) = \\alpha g(\\mathbf{x})$\n",
        "\n",
        "* _Aditividad_. Para cualquier $n$-vector $\\mathbf{x}$ y $\\mathbf{y}$ tenemos que $g(\\mathbf{x}+\\mathbf{y}) = g(\\mathbf{x})+g(\\mathbf{y})$\n",
        "\n",
        "La homogeneidad nos dice que escalar el argumento es igual que escalar el valor de la función; la aditividad nos indica que sumar los argumentos es igual que sumar los valores de la función. "
      ]
    },
    {
      "cell_type": "code",
      "metadata": {
        "id": "UJQSqxg9lIZu"
      },
      "source": [
        "a = np.array([1,1,1,1])\n",
        "b = np.array([1,0,1,0])\n",
        "x,y = 1,-2"
      ],
      "execution_count": null,
      "outputs": []
    },
    {
      "cell_type": "code",
      "metadata": {
        "id": "eHhj-3dzlIZv",
        "outputId": "b1aae1fd-4db1-4a87-c858-6554232186fd"
      },
      "source": [
        "print('f(x*a + y*b) = ',f(x*a + y*b))"
      ],
      "execution_count": null,
      "outputs": [
        {
          "output_type": "stream",
          "text": [
            "f(x*a + y*b) =  0\n"
          ],
          "name": "stdout"
        }
      ]
    },
    {
      "cell_type": "code",
      "metadata": {
        "id": "5h9mbaoMlIZv",
        "outputId": "680763b2-de1b-4f87-a609-0f3783ef1af9"
      },
      "source": [
        "print('x*f(a) + y*f(b) =',x*f(a) + y*f(b))"
      ],
      "execution_count": null,
      "outputs": [
        {
          "output_type": "stream",
          "text": [
            "x*f(a) + y*f(b) = 0\n"
          ],
          "name": "stdout"
        }
      ]
    },
    {
      "cell_type": "markdown",
      "metadata": {
        "id": "_YJls943lIZw"
      },
      "source": [
        "**Representación producto interno de una función lineal.** En matemáticas las verdades, cuando son verdades, se demuestran usando argumentos principalmente lógicos. Estas verdades vienen empaquetadas en _teoremas_, _corolarios_ y _lemas_. Si no podemos demostrarlo pero creemos que es verdad lo llamamos _conjetura_. Por ejemplo, consideremos el siguiente teorema:"
      ]
    },
    {
      "cell_type": "markdown",
      "metadata": {
        "id": "vqLdm1dAlIZw"
      },
      "source": [
        "**Teorema.** Los ángulos a ambos lados de una recta, que intersecta a otra, siempre suman $180^\\circ$ \n"
      ]
    },
    {
      "cell_type": "markdown",
      "metadata": {
        "id": "-wc-r1eclIZw"
      },
      "source": [
        "*Demostración*: Supongamos que $\\alpha + \\beta \\neq 180$ eso quiere decir que $\\alpha + \\beta > 180$ o $\\alpha + \\beta < 180$. Ahora, pensemos en la linea **f** pasa por el diámetro, es decir, corta a la mitad al círculo. \n",
        "\n",
        "\n",
        "Al pasar por el diámetro sabemos que ambos lados tenemos un ángulo de $180^\\circ$. Llamemos a ese ángulo $\\Omega=180^\\circ$. Ahora, llamemos **g** a una línea que pase por otro diámetro. \n",
        "\n"
      ]
    },
    {
      "cell_type": "markdown",
      "metadata": {
        "id": "OqjEsrc9lIZx"
      },
      "source": [
        "Entonces, al seccionar con **g** tenemos nuevamente los ángulos $\\alpha$ y $\\beta$ entonces tenemos que $\\alpha + \\beta = \\Omega$ pero asumimos que $\\alpha + \\beta \\neq 180^\\circ$ lo cuyal nos lleva a una contradicción $!$ por ello lo anteior debe ser cierto.  "
      ]
    },
    {
      "cell_type": "markdown",
      "metadata": {
        "id": "XHNBg2iFW4F7"
      },
      "source": [
        ""
      ]
    },
    {
      "cell_type": "markdown",
      "metadata": {
        "id": "TSeP2H2fW37d"
      },
      "source": [
        ""
      ]
    },
    {
      "cell_type": "markdown",
      "metadata": {
        "id": "CDunQyrklIZx"
      },
      "source": [
        "**Corolario.** Cuando dos líneas se intersectan los ángulos opuestos entre ellos son iguales.\n",
        "\n",
        "![](fl_2.png)"
      ]
    },
    {
      "cell_type": "markdown",
      "metadata": {
        "id": "Ink9KVLvlIZy"
      },
      "source": [
        "*Demostración:* Sabemos que $\\beta + \\alpha = 180^\\circ$ entonces $\\alpha = 180^\\circ - \\beta$. Por otro lado, sabemos que también $\\gamma + \\beta = 180^\\circ$ así pues $\\gamma = 180^\\circ - \\beta$. Juntando lo anteior tenemos que:\n",
        "\n",
        "$$\n",
        "\\alpha  =  180^\\circ - \\beta = \\gamma\n",
        "$$\n",
        "\n",
        "Lo mismo es posible aplicarse para $\\beta$ y $\\delta$. **QED**. "
      ]
    },
    {
      "cell_type": "markdown",
      "metadata": {
        "id": "EIhfTm71lIZy"
      },
      "source": [
        "Ya explorados los teoremas y los corolarios veamos la siguiente proposición:  \n",
        "\n",
        "**Proposición:** Una función definida como el producto punto de sus argumentos y algún vector fijo es lineal. Lo inverso es también verdadero: si una función es lineal entonces puede ser expresada como el producto interno de sus argumentos y algún vector fijo."
      ]
    },
    {
      "cell_type": "markdown",
      "metadata": {
        "id": "JS1idT2ElIZy"
      },
      "source": [
        "Ahora, sea $f$ una función escalar de $n$-vectores que además es lineal. Entonces decimos que _existe_ un $n$-vector $\\mathbf{a}$ tal que $f(\\mathbf{x}) = \\mathbf{a}^{T}\\mathbf{x}$ para cualquier $\\mathbf{x}$. A la expresión $\\mathbf{a}^{T}\\mathbf{x}$ le llamaremos *representación producto punto* de $f$. "
      ]
    },
    {
      "cell_type": "markdown",
      "metadata": {
        "id": "Y2UvQbYXlIZz"
      },
      "source": [
        "Otra propiedad interesante es que la *representación producto punto* de $f$ como $\\mathbf{a}^{T}\\mathbf{x}$ es única. "
      ]
    },
    {
      "cell_type": "markdown",
      "metadata": {
        "id": "aICbv7SzlIZz"
      },
      "source": [
        "$ f(\\mathbf{x}) = \\displaystyle\\sum_{i}^{n-1} x_{i}$ si n=4 esto lo podemos expresar como $f(\\mathbf{x}) = \\mathbf{a}^{T}\\mathbf{x}$ donde:\n",
        "$$\n",
        "a^T = [1,1,1,1]\n",
        "$$"
      ]
    },
    {
      "cell_type": "markdown",
      "metadata": {
        "id": "D20RyPkplIZ0"
      },
      "source": [
        "**Promedio.** El promedio de una $n$-vector es definida como\n",
        "\n",
        "$$\n",
        "f(x) = (x_{0}+x_{1}+\\cdots+x_{n-1})/n\n",
        "$$\n",
        "\n",
        "Y se denota como $\\mathbf{avg}(x)$, notemos que este $\\mathbf{avg}(x) = a^{T}x$ con\n",
        "\n",
        "$$\n",
        "a^T = [1/n\\; 1/n\\; \\cdots \\; 1/n] = \\mathbf{1}/n\n",
        "$$"
      ]
    },
    {
      "cell_type": "markdown",
      "metadata": {
        "id": "271ciNKBlIZ0"
      },
      "source": [
        "**Máximo.** Para $n$-vectores $x$ la función que nos da el máximo coeficiente de un vector es $f(x)=max\\{x_{0},x_{1},\\dots,x_{n-1}\\}$ y no es lineal. Para demostrar esto voy a suponer que es lineal y dar un contraejemplo. Si tomamos $x^T = [1,-1]$ y $y^T=[-1,1]$ con $\\alpha = 1/2$ y $\\beta = 1/2$. Entonces tenemos que:\n",
        "\n",
        "$$\n",
        "f(\\alpha x + \\beta y) = 0 \\neq \\alpha f(x) + \\beta f(y) = 1\n",
        "$$"
      ]
    },
    {
      "cell_type": "code",
      "metadata": {
        "id": "OelkcqDOlIZ0"
      },
      "source": [
        "def MAX(x):\n",
        "    return np.max(x)"
      ],
      "execution_count": null,
      "outputs": []
    },
    {
      "cell_type": "code",
      "metadata": {
        "id": "nL0QTWgnlIZ1",
        "outputId": "d1e34391-5572-4b29-d3cf-77deca9c55f1"
      },
      "source": [
        "print('MAX([1,0,2]) = ', MAX(np.array([1,0,2])))"
      ],
      "execution_count": null,
      "outputs": [
        {
          "output_type": "stream",
          "text": [
            "MAX([1,0,2]) =  2\n"
          ],
          "name": "stdout"
        }
      ]
    },
    {
      "cell_type": "code",
      "metadata": {
        "id": "kgDOWX3mlIZ2"
      },
      "source": [
        "x = np.array([1,-1])\n",
        "y = np.array([-1,1])\n",
        "a,b = 1/2, 1/2"
      ],
      "execution_count": null,
      "outputs": []
    },
    {
      "cell_type": "code",
      "metadata": {
        "id": "rWqBaLCUlIZ2",
        "outputId": "d701fe74-9c04-4bd1-a6de-9fbb016afa54"
      },
      "source": [
        "print('MAX(a*x + b*y) = ', MAX(a*x + b*y))"
      ],
      "execution_count": null,
      "outputs": [
        {
          "output_type": "stream",
          "text": [
            "MAX(a*x + b*y) =  0.0\n"
          ],
          "name": "stdout"
        }
      ]
    },
    {
      "cell_type": "code",
      "metadata": {
        "id": "md7IlW1clIZ3",
        "outputId": "7d575f9c-4aee-4b44-f33a-3479a5995312"
      },
      "source": [
        "print('a*MAX(x) + b*MAX(y) = ', a*MAX(x) + b*MAX(y))"
      ],
      "execution_count": null,
      "outputs": [
        {
          "output_type": "stream",
          "text": [
            "a*MAX(x) + b*MAX(y) =  1.0\n"
          ],
          "name": "stdout"
        }
      ]
    },
    {
      "cell_type": "markdown",
      "metadata": {
        "id": "N0zAYi8TlIZ3"
      },
      "source": [
        "## 5.2 Algunas consideraciones"
      ]
    },
    {
      "cell_type": "markdown",
      "metadata": {
        "id": "IRy2a2ZYlIZ4"
      },
      "source": [
        "**Funciones Afines.** Una función $f:\\mathbb{R}^{n} \\to \\mathbb{R}$ es afín si y solo si puede ser expresada como $f(x) = a^{T}x + b$ para algún $n$-vector $a$ y un escalar $b$, es llamado algunas veces *offset* o *bias*. Por ejemplo si consideramos la siguiente función:\n",
        "\n",
        "$$\n",
        "f(x) = 3 + x_{0}+x_{1}+x_{2}\n",
        "$$\n",
        "\n",
        "La podemos representar como \n",
        "\n",
        "$$\n",
        "f(x) = a^T x + b = [1 \\; 1 \\; 1] x + 3\n",
        "$$"
      ]
    },
    {
      "cell_type": "markdown",
      "metadata": {
        "id": "NvK1A2p4lIZ4"
      },
      "source": [
        "Una función afín cumplirá la superposición si y solo si la suma de de los coeficientes de la combinación lineal es uno. Es decir, si $f$ es una función afín entonces $f(\\alpha x + \\beta y) = \\alpha f(x)+ \\beta f(y)$ si y solo si $  \\alpha + \\beta = 1$.\n",
        "\n",
        "*Demostración.* Como $f$ es afín tenemos que $f(x)=a^T x + b$  entonces, usando que $  \\alpha + \\beta = 1$\n",
        "\n",
        "$$\n",
        "\\begin{eqnarray}\n",
        "f(\\alpha x + \\beta y) &=& a^T (\\alpha x + \\beta y) + b \\\\\n",
        " &=& a^T \\alpha x + a^T \\beta y + (\\alpha + \\beta) b \\\\\n",
        " &=& \\alpha a^T x + \\alpha b + \\beta a^T y + \\beta b \\\\\n",
        " &=& \\alpha (a^T x + b) + \\beta (a^T y + b) \\\\\n",
        " &=& \\alpha f(x) + \\beta f(y)\n",
        "\\end{eqnarray}\n",
        "$$"
      ]
    },
    {
      "cell_type": "markdown",
      "metadata": {
        "id": "HxODZP_glIZ5"
      },
      "source": [
        "**Ejercicio.** Determina si las siguientes funciones son lineales o no:\n",
        "* $f(\\mathbf{x}) = x_{n-1} - x_{0}$\n",
        "\n",
        "* Si $\\mathbf{x}\\in\\mathbb{R}^{4}$ y $f:\\mathbb{R}^{4} \\to \\mathbb{R}$ definida como $f(\\mathbf{x})=x_{3}+(x_{3}-x_{2})$"
      ]
    },
    {
      "cell_type": "markdown",
      "metadata": {
        "id": "sigb4cenlIZ6"
      },
      "source": [
        "**Problema: Potencia en un clúster de procesadores y temperatura.** La temperatura $T$ de un cluster de tres procesadores es una función afín de la potencia de los procesadores $P^T = [P_{0}\\; P_{1}\\; P_{2}]$. Cuando los tres procesadores están en reposo tenemos que $P^T = [10\\; 10\\; 10]$ lo cual nos da una temperatura de $T=35$. Cuando el primer procesador opera a potencia absoluta tenemos que $P^T = [100\\; 10\\; 10]$ y la temperatura se eleva a $T=60$. Cuando el segundo procesador opera a su máxima capacidad tenemos $P^T = [10\\; 100\\; 10]$ y la temperatura se eleva a $T=75$. Cuando el tercer procesador opera a máxima potencia mientras que los otros dos están en reposo tenemos que $P^T = [10\\; 10\\; 100]$ y la temperatura se elevea a $T=65$. Supongamos que los tres procesadores operan a máxima potencia ¿Qué temperatura se alcanza? La temperatura de fusión de los procesadores (a la que los procesadores se derriten) es cerca de $150$ ¿Cuál es la potencia máxima que pueden alcanzar los procesadores para que $T\\le 150$?  \n",
        "*Hint:* $T(P) = a^T P + b$"
      ]
    },
    {
      "cell_type": "markdown",
      "metadata": {
        "id": "EvlFoJ0WgR2Q"
      },
      "source": [
        "* $f(\\mathbf{x}) = x_{n-1} - x_{0}$:\n",
        "\n",
        "Sol: Revisemos si cumple la superposición, es decir: \n",
        "$f(\\alpha\\mathbf{x} + \\beta\\mathbf{y})=\\alpha f(\\mathbf{x})+\\beta f(\\mathbf{y})$\n",
        "\n",
        "Tomemos:\n",
        "\n",
        "$\\alpha\\mathbf{x}+\\beta\\mathbf{y} = [\\alpha x_{0}+\\beta y_{0},\\alpha x_{1}+\\beta y_{1},...,\\alpha x_{n-1}+\\beta y_{n-1}]$\n",
        "\n",
        ", aplicando \n",
        "\n",
        "$f(\\alpha\\mathbf{x}+\\beta\\mathbf{y}) = \\alpha x_{n-1}+\\beta y_{n-1} - \\alpha x_{0}-\\beta y_{0}$\n",
        "\n",
        "Ahora, por otro lado:\n",
        "\n",
        "$\\alpha f(\\mathbf{x})+\\beta f(\\mathbf{y}) = \\alpha (x_{n-1} -x_{0}) +\\beta (y_{n-1}-y_{0}) = \\alpha x_{n-1}-\\alpha x_{0}+\\beta y_{n-1} -\\beta y_{0} = \\alpha x_{n-1}+\\beta y_{n-1} - \\alpha x_{0}-\\beta y_{0}$\n",
        "\n",
        "Por lo que se comprueba que es lineal\n"
      ]
    },
    {
      "cell_type": "markdown",
      "metadata": {
        "id": "0Y_GB_0jk3UJ"
      },
      "source": [
        "\n",
        "* Si $\\mathbf{x}\\in\\mathbb{R}^{4}$ y $f:\\mathbb{R}^{4} \\to \\mathbb{R}$ definida como $f(\\mathbf{x})=x_{3}+(x_{3}-x_{2})$\n",
        "\n",
        "Veamos si cumple la superposición, es decir: \n",
        "$f(\\alpha\\mathbf{x} + \\beta\\mathbf{y})=\\alpha f(\\mathbf{x})+\\beta f(\\mathbf{y})$\n",
        "\n",
        "Sean $\\mathbf{x}=[x_{0},x_{1},x_{2},x_{3}]; \\mathbf{y}=[y_{0},y_{1},y_{2},y_{3}] \\in \\mathbb{R}^{4}$\n",
        "\n",
        "y $\\alpha \\mathbf{x}+\\beta\\mathbf{y} =[\\alpha x_{0}+\\beta y_{0},\\alpha x_{1}+\\beta y_{1},\\alpha x_{2}+\\beta y_{2},\\alpha x_{3}+\\beta y_{3}]$,\n",
        "\n",
        "por tanto: $f(\\alpha \\mathbf{x}+\\beta\\mathbf{y}) = \\alpha x_{3}+\\beta y_{3} + (\\alpha x_{3}+\\beta y_{3} -\\alpha x_{2}-\\beta y_{2}) = \\alpha(2 x_{3}-x_{2})+\\beta(2y_{3} -y_{2})$\n",
        "\n",
        "Por otro lado:\n",
        "$\\alpha f(\\mathbf{x}) + \\beta f(\\mathbf{y})= \\alpha( x_{3}+(x_{3}-x_{2})) + \\beta ( y_{3}+(y_{3}-y_{2})) = \\alpha(2x_{3}-x_{2}) + \\beta (2y_{3}-y_{2})$\n",
        "\n",
        "Por lo tanto ambas son lineales."
      ]
    },
    {
      "cell_type": "markdown",
      "metadata": {
        "id": "B94Ekrt-rtM7"
      },
      "source": [
        "**Problema: Potencia en un clúster de procesadores y temperatura.** La temperatura $T$ de un cluster de tres procesadores es una función afín de la potencia de los procesadores $P^T = [P_{0}\\; P_{1}\\; P_{2}]$. Cuando los tres procesadores están en reposo tenemos que $P^T = [10\\; 10\\; 10]$ lo cual nos da una temperatura de $T=35$. Cuando el primer procesador opera a potencia absoluta tenemos que $P^T = [100\\; 10\\; 10]$ y la temperatura se eleva a $T=60$. Cuando el segundo procesador opera a su máxima capacidad tenemos $P^T = [10\\; 100\\; 10]$ y la temperatura se eleva a $T=75$. Cuando el tercer procesador opera a máxima potencia mientras que los otros dos están en reposo tenemos que $P^T = [10\\; 10\\; 100]$ y la temperatura se elevea a $T=65$. Supongamos que los tres procesadores operan a máxima potencia ¿Qué temperatura se alcanza? La temperatura de fusión de los procesadores (a la que los procesadores se derriten) es cerca de $150$ ¿Cuál es la potencia máxima que pueden alcanzar los procesadores para que $T\\le 150$?  \n",
        "*Hint:* $T(P) = a^T P + b$"
      ]
    },
    {
      "cell_type": "markdown",
      "metadata": {
        "id": "8UzRXxw6G82u"
      },
      "source": [
        "Dado que sabemos que la temperatura es función afín, se puede ver de la siguiente forma:\n",
        "\n",
        "* $T(P)=a^TP+b$\n",
        "\n",
        "Dado que *P*, es un vector en $\\mathbb{R}^3$, la expresión anterior se puede ver en forma vectorial como:\n",
        "\n",
        "$$\n",
        "T(P) = [a_{0},a_{1},a_{2}] \\begin{bmatrix}P_{0}\\\\ P_{1}\\\\P_{2}\\end{bmatrix} + b = a_{0}P_{0}+a_{1}P_{1}+a_{2}P_{2} + b\n",
        "$$\n",
        "\n",
        "Notemos que el problema nos ofrece 4 soluciones para esta ecuación:\n",
        "\n",
        "* $10a_{0}+10a_{1}+10a_{2}+b=35$\n",
        "* $100a_{0}+10a_{1}+10a_{2}+b=60$\n",
        "* $10a_{0}+100a_{1}+10a_{2}+b=75$\n",
        "* $10a_{0}+10a_{1}+100a_{2}+b=65$\n",
        "\n",
        "Con los cuales debemos encontrar los valores de $a_{0},a_{1},a_{2} y b$, por lo que podemos proceder a resolverlo como un sistema de ecuaciones 4x4.\n"
      ]
    },
    {
      "cell_type": "code",
      "metadata": {
        "colab": {
          "base_uri": "https://localhost:8080/"
        },
        "id": "4R-LK5WwgOsB",
        "outputId": "22d609d9-902a-48f0-c0ba-e2505bc9c7ab"
      },
      "source": [
        "#Utilizaremos una función de numpy para resolver el sistema de ecuaciones:\n",
        "#np.linalg.solve() \n",
        "#Documentación: https://problemsolvingwithpython.com/05-NumPy-and-Arrays/05.08-Systems-of-Linear-Equations/\n",
        "import numpy as np\n",
        "#Construimos la matriz de coeficientes\n",
        "A = np.array([[10,10,10,1],[100,10,10,1],[10,100,10,1],[10,10,100,1]])\n",
        "#Vector de soluciones\n",
        "b = np.array([35,60,75,65])\n",
        "#Vector de soluciones, el cual, las primeras 3 entradas del vector serán nuestro vector \"a^T\" y la última entrada será nuestro \"b\"\n",
        "a = np.linalg.solve(A,b)\n",
        "b=a[3]\n",
        "a = a[:3]\n",
        "\n",
        "print(\"a^T: \",a)\n",
        "print(\"b: \",b)"
      ],
      "execution_count": null,
      "outputs": [
        {
          "output_type": "stream",
          "text": [
            "a^T:  [0.27777778 0.44444444 0.33333333]\n",
            "b:  24.444444444444443\n"
          ],
          "name": "stdout"
        }
      ]
    },
    {
      "cell_type": "code",
      "metadata": {
        "id": "hAX-aT3mdoXA"
      },
      "source": [
        "#Definimos T(P)\n",
        "def T(P):\n",
        "  return a.dot(P) + b"
      ],
      "execution_count": null,
      "outputs": []
    },
    {
      "cell_type": "code",
      "metadata": {
        "colab": {
          "base_uri": "https://localhost:8080/"
        },
        "id": "Sft_DSSvhYci",
        "outputId": "53042b2d-dc44-4337-fab8-5311a7325731"
      },
      "source": [
        "#Comprobamos los resultados:\n",
        "print('T([10,10,10]) = ',T(np.array([10,10,10])))\n",
        "print('T([100,10,10]) = ',T(np.array([100,10,10])))\n",
        "print('T([10,100,10]) = ',T(np.array([10,100,10])))\n",
        "print('T([10,10,100]) = ',T(np.array([10,10,100])))\n"
      ],
      "execution_count": null,
      "outputs": [
        {
          "output_type": "stream",
          "text": [
            "T([10,10,10]) =  35.0\n",
            "T([100,10,10]) =  60.0\n",
            "T([10,100,10]) =  75.0\n",
            "T([10,10,100]) =  65.0\n"
          ],
          "name": "stdout"
        }
      ]
    },
    {
      "cell_type": "code",
      "metadata": {
        "colab": {
          "base_uri": "https://localhost:8080/"
        },
        "id": "QW-2uJUjjfgT",
        "outputId": "6b8fc12f-565d-4b1b-c28a-30e832fe2710"
      },
      "source": [
        "#Supongamos que los tres procesadores operan a máxima potencia \n",
        "#¿Qué temperatura se alcanza?\n",
        "print('T([100,100,100]) = ',a.dot(np.array([100,100,100]))+b)"
      ],
      "execution_count": null,
      "outputs": [
        {
          "output_type": "stream",
          "text": [
            "T([100,100,100]) =  130.0\n"
          ],
          "name": "stdout"
        }
      ]
    },
    {
      "cell_type": "code",
      "metadata": {
        "colab": {
          "base_uri": "https://localhost:8080/"
        },
        "id": "gkKqORkvj6pI",
        "outputId": "51eca1d6-a682-4675-eda1-47e22bd914fe"
      },
      "source": [
        "# La temperatura de fusión de los procesadores (a la que los procesadores se derriten) \n",
        "#es cerca de 150 ¿Cuál es la potencia máxima que pueden alcanzar los procesadores para que T<=150?  \n",
        "\n",
        "#asumiendo la temperatura máxima para los 3 procesadores sea la misma, con una tolerancia de 0.01\n",
        "tol=0.01\n",
        "min=100\n",
        "max=150\n",
        "\n",
        "P = np.array([min,min,min])\n",
        "\n",
        "while abs(T(P)-149.9999) > tol:\n",
        "  avg=(min+max)/2\n",
        "  P = np.array([round(avg,3),round(avg,3),round(avg,3)])\n",
        "  if T(P) > 149.9999:\n",
        "    max=avg\n",
        "  else:\n",
        "    min=avg\n",
        "  print(f\"T({P}) = {round(T(P),3)}\")\n"
      ],
      "execution_count": null,
      "outputs": [
        {
          "output_type": "stream",
          "text": [
            "T([125. 125. 125.]) = 156.389\n",
            "T([112.5 112.5 112.5]) = 143.194\n",
            "T([118.75 118.75 118.75]) = 149.792\n",
            "T([121.875 121.875 121.875]) = 153.09\n",
            "T([120.312 120.312 120.312]) = 151.44\n",
            "T([119.531 119.531 119.531]) = 150.616\n",
            "T([119.141 119.141 119.141]) = 150.204\n",
            "T([118.945 118.945 118.945]) = 149.998\n"
          ],
          "name": "stdout"
        }
      ]
    }
  ]
}