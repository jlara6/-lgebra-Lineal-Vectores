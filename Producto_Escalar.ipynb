{
  "nbformat": 4,
  "nbformat_minor": 0,
  "metadata": {
    "kernelspec": {
      "display_name": "Python 3",
      "language": "python",
      "name": "python3"
    },
    "language_info": {
      "codemirror_mode": {
        "name": "ipython",
        "version": 3
      },
      "file_extension": ".py",
      "mimetype": "text/x-python",
      "name": "python",
      "nbconvert_exporter": "python",
      "pygments_lexer": "ipython3",
      "version": "3.7.3"
    },
    "colab": {
      "name": "Producto_Escalar.ipynb",
      "provenance": [],
      "include_colab_link": true
    }
  },
  "cells": [
    {
      "cell_type": "markdown",
      "metadata": {
        "id": "view-in-github",
        "colab_type": "text"
      },
      "source": [
        "<a href=\"https://colab.research.google.com/github/jlara6/Algebra-Lineal-Vectores/blob/master/Producto_Escalar.ipynb\" target=\"_parent\"><img src=\"https://colab.research.google.com/assets/colab-badge.svg\" alt=\"Open In Colab\"/></a>"
      ]
    },
    {
      "cell_type": "markdown",
      "metadata": {
        "id": "nIK9yHkj5zn2"
      },
      "source": [
        "# 3. Producto por un escalar o multiplicación escalar-vector."
      ]
    },
    {
      "cell_type": "markdown",
      "metadata": {
        "id": "Wd677u0i5zoC"
      },
      "source": [
        "Otra operación es el *producto por un escalar* o *multiplicación escalar-vector* en la cual un vector es multiplicado por un escalar. La operación se hace elemento a elemento. Sea $\\vec{v}$ un vector de $\\mathbb{R}^{n}$ y $\\alpha \\in \\mathbb{R}$. Si $\\vec{x} = \\alpha \\vec{v}$ entonces:\n",
        "$$\n",
        "\\vec{x} = \\alpha \\vec{v} =   \\alpha\\begin{bmatrix}v_{0}\\\\ v_{1}\\\\ \\vdots \\\\ v_{n-1}\\end{bmatrix} = \\begin{bmatrix}\\alpha \\cdot v_{0}\\\\ \\alpha \\cdot v_{1}\\\\ \\vdots \\\\ \\alpha \\cdot v_{n-1}\\end{bmatrix}\n",
        "$$"
      ]
    },
    {
      "cell_type": "markdown",
      "metadata": {
        "id": "RzhJUKkQ5zoD"
      },
      "source": [
        "Por ejemplo, si $\\vec{v} = (0,1,-2.3)$ y $\\alpha = -1.1$ entonces $\\alpha \\vec{v} = (0,-1.1,2.53)$"
      ]
    },
    {
      "cell_type": "markdown",
      "metadata": {
        "id": "LZrKCD7A5zoD"
      },
      "source": [
        "## 3.1 Propiedades del producto por un escalar-vector"
      ]
    },
    {
      "cell_type": "markdown",
      "metadata": {
        "id": "QaCufiKA5zoD"
      },
      "source": [
        "Sean $\\vec{x},\\vec{y}$ dos vectores y $\\alpha, \\beta$ dos escalares cualquiera. Las propiedades que cumple el producto escalar-vector son las siguientes:\n",
        "* Conmutatividad: $\\alpha \\vec{x} = \\vec{x}\\alpha $\n",
        "\n",
        "* Asociatividad: $(\\beta \\alpha)\\vec{x} = \\beta (\\alpha\\vec{x})$\n",
        "\n",
        "* Distribución sobre suma escalar: $(\\alpha + \\beta)\\vec{x} = \\alpha \\vec{x} + \\beta\\vec{x} =\\beta\\vec{x} + \\alpha\\vec{x} = \\vec{x}(\\alpha + \\beta) $\n",
        "\n",
        "* Distribución sobre suma de vectores: $\\alpha (\\vec{x}+\\vec{y}) = \\alpha\\vec{x} + \\alpha\\vec{y}$"
      ]
    },
    {
      "cell_type": "markdown",
      "metadata": {
        "id": "T_KKlAzA5zoE"
      },
      "source": [
        "## 3.2 Algunas consideraciones"
      ]
    },
    {
      "cell_type": "markdown",
      "metadata": {
        "id": "Jr83TrQG5zoE"
      },
      "source": [
        "**Combinaciones lineales**. Sean $\\vec{a}_{0},\\vec{a}_{1},\\dots,\\vec{a}_{m-1}$ $n$-vectores y $\\beta_{0},\\beta_{1},\\dots,\\beta_{m-1}$ escalares entonces podemos definir el siguiente $n$-vector:\n",
        "\n",
        "$$\n",
        "\\beta_{0}\\vec{a}_{0}+\\beta_{1}\\vec{a}_{1}+\\cdots+\\beta_{m-1}\\vec{a}_{m-1}\n",
        "$$\n",
        "\n",
        "Es llamado una *combinación lineal* de los vectores $\\vec{a}_{0},\\vec{a}_{1},\\dots,\\vec{a}_{m-1}$. Los escalares $\\beta_{0},\\beta_{1},\\dots,\\beta_{m-1}$ son llamados los *coeficientes* de la combinación lineal."
      ]
    },
    {
      "cell_type": "markdown",
      "metadata": {
        "id": "YFycgoZZ5zoF"
      },
      "source": [
        "  "
      ]
    },
    {
      "cell_type": "markdown",
      "metadata": {
        "id": "CVL2iyYn5zoF"
      },
      "source": [
        "**Combinaciones lineales de vectores unitarios**. Es posible escribir cualquier $\\vec{b}$ $n$-vector como combinación lineal de los vectores unitarios estándar:\n",
        "\n",
        "$$\n",
        "\\vec{b} = b_{0}\\hat{e}_{0}+b_{1}\\hat{e}_{1} + \\cdots +b_{n-1}\\hat{e}_{n-1}\n",
        "$$\n",
        "\n",
        "Con $b_{i}$ escalares y $\\hat{e}_{i}$ el i-ésimo vector unitario. Un ejemplo específico sería:\n",
        "\n",
        "$$\n",
        "\\begin{bmatrix}1\\\\ -1\\\\ 0\\end{bmatrix} = (1)\\begin{bmatrix}1\\\\ 0\\\\ 0\\end{bmatrix} + (-1)\\begin{bmatrix}0\\\\ 1\\\\ 0\\end{bmatrix} + (0)\\begin{bmatrix}0\\\\ 0\\\\ 1\\end{bmatrix}\n",
        "$$\n",
        "\n",
        "Como nota final aquí, notemos que si el espacio vectorial es de dimensión $n$ entonces tiene $n$ vectores unitarios $\\hat{e}_{i}$\n"
      ]
    },
    {
      "cell_type": "markdown",
      "metadata": {
        "id": "ofN2wSN-5zoF"
      },
      "source": [
        "  "
      ]
    },
    {
      "cell_type": "markdown",
      "metadata": {
        "id": "PbSecEBg5zoG"
      },
      "source": [
        "**Combinaciones lineales especiales**. Algunas combinaciones de $n$-vectores $\\vec{a}_{0},\\vec{a}_{1},\\dots,\\vec{a}_{m-1}$ tienen nombres especiales.  Por ejemplo, si los coeficientes de la combinación lineal son tales que $\\beta_{0}=\\beta_{1}=\\cdots=\\beta_{m-1} = 1$ entonces simplemente es una suma de vectores. Si en cambio $\\beta_{0}=\\beta_{1}=\\cdots=\\beta_{m-1} = 1/m$ entonces la combinación lineal se llama el *promedio de vectores*.       \n",
        "Cuando $\\beta_{0}+\\beta_{1}+\\cdots+\\beta_{m-1}=1$ entonces la combinación lineal se llama *combinación afín*, cuando los coeficientes $\\beta_{i}$ son no-negativos entonces la combinación lineal es llamada una *mezcla*, *combinación convexa* o un *promedio pesado*."
      ]
    },
    {
      "cell_type": "markdown",
      "metadata": {
        "id": "DEqdFFpX5zoG"
      },
      "source": [
        "## 3.3 Producto por un escalar-vector en Python"
      ]
    },
    {
      "cell_type": "markdown",
      "metadata": {
        "id": "2Or6htSH5zoG"
      },
      "source": [
        "Desde la clase pasada introducimos Numpy para manejo de vectores. Una de las fortunas de usar numpy sobre listas es la simpleta de este tipo de operaciones. Realizar esta operación será tan sencillo como usar el operador $*$. "
      ]
    },
    {
      "cell_type": "markdown",
      "metadata": {
        "id": "KVGnRwUd5zoH"
      },
      "source": [
        "Partamos del vector $\\vec{x}= (1,-1,1)$ y del escalar $a = 3.1$ entonces, realicemos las operaciones $a\\vec{x}$ y $\\vec{x}a$"
      ]
    },
    {
      "cell_type": "code",
      "metadata": {
        "id": "a9J_X5TB5zoH"
      },
      "source": [
        "import numpy as np #primero importamos numpy"
      ],
      "execution_count": 1,
      "outputs": []
    },
    {
      "cell_type": "code",
      "metadata": {
        "id": "9TthjA1I5zoI"
      },
      "source": [
        "x = np.array([1,-1,1]) #declaramos el vector x\n",
        "\n",
        "a = 3.1 #declaramos el escalar a"
      ],
      "execution_count": 3,
      "outputs": []
    },
    {
      "cell_type": "code",
      "metadata": {
        "colab": {
          "base_uri": "https://localhost:8080/"
        },
        "id": "QuV-_k3d5zoI",
        "outputId": "625f4a0a-49a8-4e07-d7a9-e7b158e6e8c2"
      },
      "source": [
        "print('ax es',a*x)"
      ],
      "execution_count": 4,
      "outputs": [
        {
          "output_type": "stream",
          "text": [
            "ax es [ 3.1 -3.1  3.1]\n"
          ],
          "name": "stdout"
        }
      ]
    },
    {
      "cell_type": "code",
      "metadata": {
        "colab": {
          "base_uri": "https://localhost:8080/"
        },
        "id": "GoRLYC4L5zoJ",
        "outputId": "95093260-9af9-4d35-a5e6-dfba0c21ce01"
      },
      "source": [
        "print('xa es',x*a)"
      ],
      "execution_count": 5,
      "outputs": [
        {
          "output_type": "stream",
          "text": [
            "xa es [ 3.1 -3.1  3.1]\n"
          ],
          "name": "stdout"
        }
      ]
    },
    {
      "cell_type": "code",
      "metadata": {
        "id": "FKfPwfJk5zoJ"
      },
      "source": [
        "b = -a"
      ],
      "execution_count": 6,
      "outputs": []
    },
    {
      "cell_type": "code",
      "metadata": {
        "colab": {
          "base_uri": "https://localhost:8080/"
        },
        "id": "ZmvUrEfL5zoK",
        "outputId": "2b5a6c8f-3e7f-4c0c-99e3-c7fd11c874ca"
      },
      "source": [
        "print('(b+a)x es',(b+a)*x)"
      ],
      "execution_count": 7,
      "outputs": [
        {
          "output_type": "stream",
          "text": [
            "(b+a)x es [ 0. -0.  0.]\n"
          ],
          "name": "stdout"
        }
      ]
    },
    {
      "cell_type": "code",
      "metadata": {
        "colab": {
          "base_uri": "https://localhost:8080/"
        },
        "id": "kIHidpD15zoK",
        "outputId": "d252a08d-dbe4-4d17-f1fd-bf582fbe89ed"
      },
      "source": [
        "print('xa+xb es',b*x+ x*a)"
      ],
      "execution_count": 8,
      "outputs": [
        {
          "output_type": "stream",
          "text": [
            "xa+xb es [0. 0. 0.]\n"
          ],
          "name": "stdout"
        }
      ]
    },
    {
      "cell_type": "markdown",
      "metadata": {
        "id": "ynKx4a8f5zoK"
      },
      "source": [
        "Ahora un ejercicio más $\\vec{v} = (1,1)$. Si consideramos a = -1, b = 2, c = 0.1"
      ]
    },
    {
      "cell_type": "code",
      "metadata": {
        "id": "XaJs5rsE5zoL"
      },
      "source": [
        "v = np.array([1,1])\n",
        "a = -1\n",
        "b = 2\n",
        "c = 0.1"
      ],
      "execution_count": 9,
      "outputs": []
    },
    {
      "cell_type": "code",
      "metadata": {
        "colab": {
          "base_uri": "https://localhost:8080/"
        },
        "id": "8WTCyKxF5zoL",
        "outputId": "0e6ca81e-3f7d-48f5-ce9a-b4f0273ff820"
      },
      "source": [
        "v*a"
      ],
      "execution_count": 10,
      "outputs": [
        {
          "output_type": "execute_result",
          "data": {
            "text/plain": [
              "array([-1, -1])"
            ]
          },
          "metadata": {
            "tags": []
          },
          "execution_count": 10
        }
      ]
    },
    {
      "cell_type": "code",
      "metadata": {
        "colab": {
          "base_uri": "https://localhost:8080/"
        },
        "id": "wnlxVdN65zoL",
        "outputId": "e401ca86-6e94-4b02-ba3e-ca5da7c984bd"
      },
      "source": [
        "v*b"
      ],
      "execution_count": 11,
      "outputs": [
        {
          "output_type": "execute_result",
          "data": {
            "text/plain": [
              "array([2, 2])"
            ]
          },
          "metadata": {
            "tags": []
          },
          "execution_count": 11
        }
      ]
    },
    {
      "cell_type": "code",
      "metadata": {
        "colab": {
          "base_uri": "https://localhost:8080/"
        },
        "id": "uFTT6etT5zoM",
        "outputId": "c4259527-681d-4d4d-8e4a-7d0f519d807a"
      },
      "source": [
        "v*c"
      ],
      "execution_count": 12,
      "outputs": [
        {
          "output_type": "execute_result",
          "data": {
            "text/plain": [
              "array([0.1, 0.1])"
            ]
          },
          "metadata": {
            "tags": []
          },
          "execution_count": 12
        }
      ]
    },
    {
      "cell_type": "markdown",
      "metadata": {
        "id": "129iP-wJ5zoM"
      },
      "source": [
        "## 3.3 Ejercicios"
      ]
    },
    {
      "cell_type": "markdown",
      "metadata": {
        "id": "qC7gydOE5zoM"
      },
      "source": [
        "**Problema 1**. Escribe TODOS los vectores unitarios estándar de $\\mathbb{R}^{4}$. *Hint:* son cuatro. "
      ]
    },
    {
      "cell_type": "code",
      "metadata": {
        "colab": {
          "base_uri": "https://localhost:8080/"
        },
        "id": "jcncA7JxFpkf",
        "outputId": "4d3661f7-1feb-4825-8dc5-5b731a95b58d"
      },
      "source": [
        "def vectores_unitarios(n):\r\n",
        "    vector_u = []\r\n",
        "    for i in range(n):\r\n",
        "        array = np.zeros(n)\r\n",
        "        array[i] = 1\r\n",
        "        vector_u.append(array)\r\n",
        "    return vector_u\r\n",
        "\r\n",
        "vectores_unitarios(4)"
      ],
      "execution_count": 13,
      "outputs": [
        {
          "output_type": "execute_result",
          "data": {
            "text/plain": [
              "[array([1., 0., 0., 0.]),\n",
              " array([0., 1., 0., 0.]),\n",
              " array([0., 0., 1., 0.]),\n",
              " array([0., 0., 0., 1.])]"
            ]
          },
          "metadata": {
            "tags": []
          },
          "execution_count": 13
        }
      ]
    },
    {
      "cell_type": "markdown",
      "metadata": {
        "id": "g1S4StOU5zoN"
      },
      "source": [
        "**Problema 2**. Escribe tres combinaciones lineales de vectores en $\\mathbb{R}^{3}$ para expresar el vector $[1,1,1]$."
      ]
    },
    {
      "cell_type": "code",
      "metadata": {
        "colab": {
          "base_uri": "https://localhost:8080/"
        },
        "id": "7PuVwq8lFx2q",
        "outputId": "9068cea4-8ef7-4fdb-f5cf-267e75ef51e7"
      },
      "source": [
        "def combinacion_lineal(escalares, vectores):\r\n",
        "    combinaciones =  [np.array(i * j) for i, j in zip(escalares, vectores)]\r\n",
        "    return sum(combinaciones)\r\n",
        "\r\n",
        "print('Combinacion lineal 1 = ',combinacion_lineal([1, 1, 1], vectores_unitarios(3)))\r\n",
        "\r\n",
        "print('Combinacion lineal 2 = ',combinacion_lineal([-1, 1, 1], np.array([[2, 2, 2], [2, 2, 2], [1, 1, 1]])))\r\n",
        "\r\n",
        "print('Combinacion lineal 3 = ',combinacion_lineal([-1, 1, 1/3], np.array([[3, 3, 3], [3, 3, 3], [3, 3, 3]])))"
      ],
      "execution_count": 14,
      "outputs": [
        {
          "output_type": "stream",
          "text": [
            "Combinacion lineal 1 =  [1. 1. 1.]\n",
            "Combinacion lineal 2 =  [1 1 1]\n",
            "Combinacion lineal 3 =  [1. 1. 1.]\n"
          ],
          "name": "stdout"
        }
      ]
    },
    {
      "cell_type": "markdown",
      "metadata": {
        "id": "QAImqjTb5zoN"
      },
      "source": [
        "**Problema 3.** Escribe tres combinaciones afines con vectores de $\\mathbb{R}^{3}$ donde $\\beta_{0}\\neq\\beta_{1}\\neq\\beta_{2}$ pero que se cumpla que $\\beta_{0}+\\beta_{1}+\\beta_{2}=1$. *HINT*: Si no se te ocurre ninguna combinación para los coeficientes la ecuación $\\beta_{0}+\\beta_{1}+\\beta_{2}=1$ tiene infinitas soluciones, puedes hacer un programa para encontrar tres. "
      ]
    },
    {
      "cell_type": "code",
      "metadata": {
        "colab": {
          "base_uri": "https://localhost:8080/"
        },
        "id": "gpohJ22kF_Tu",
        "outputId": "b79febb6-4267-4912-a800-fa74d0eb8779"
      },
      "source": [
        "def sum1_coef(n_coef, size):\r\n",
        "    data = []\r\n",
        "    for i in range(size):\r\n",
        "        coef = np.random.rand(2)\r\n",
        "        coef = np.linspace(min(coef), max(coef), n_coef-1)\r\n",
        "        coef = np.append(coef, 1 - sum(coef))\r\n",
        "        data.append(coef)\r\n",
        "    return data\r\n",
        "\r\n",
        "sum1_coef(3, 3)"
      ],
      "execution_count": 15,
      "outputs": [
        {
          "output_type": "execute_result",
          "data": {
            "text/plain": [
              "[array([ 0.66166796,  0.75794962, -0.41961758]),\n",
              " array([ 0.51106978,  0.89833274, -0.40940252]),\n",
              " array([ 0.27374129,  0.80756545, -0.08130673])]"
            ]
          },
          "metadata": {
            "tags": []
          },
          "execution_count": 15
        }
      ]
    },
    {
      "cell_type": "code",
      "metadata": {
        "id": "eEhxStHL5zoN"
      },
      "source": [
        "a = np.linspace(0,5,1000)"
      ],
      "execution_count": null,
      "outputs": []
    },
    {
      "cell_type": "code",
      "metadata": {
        "id": "CE24Ngr05zoN",
        "outputId": "12ce17db-d5c9-47e0-b717-a9faaec669e9"
      },
      "source": [
        "a[1]-a[0]"
      ],
      "execution_count": null,
      "outputs": [
        {
          "output_type": "execute_result",
          "data": {
            "text/plain": [
              "0.005005005005005005"
            ]
          },
          "metadata": {
            "tags": []
          },
          "execution_count": 32
        }
      ]
    },
    {
      "cell_type": "code",
      "metadata": {
        "id": "UgMCOblG5zoN",
        "outputId": "0b71f236-cd00-447c-fc87-10586520e5e7"
      },
      "source": [
        "a[2]-a[1]"
      ],
      "execution_count": null,
      "outputs": [
        {
          "output_type": "execute_result",
          "data": {
            "text/plain": [
              "0.005005005005005005"
            ]
          },
          "metadata": {
            "tags": []
          },
          "execution_count": 33
        }
      ]
    },
    {
      "cell_type": "code",
      "metadata": {
        "id": "4UY95ZQi5zoO",
        "outputId": "22d1a13a-69cc-4a67-8c46-4e4baadc1a83"
      },
      "source": [
        "a[999]-a[998]"
      ],
      "execution_count": null,
      "outputs": [
        {
          "output_type": "execute_result",
          "data": {
            "text/plain": [
              "0.005005005005005003"
            ]
          },
          "metadata": {
            "tags": []
          },
          "execution_count": 34
        }
      ]
    },
    {
      "cell_type": "code",
      "metadata": {
        "id": "QDzQsqvl5zoO",
        "outputId": "20913a6d-6a9f-4a56-b2bc-68e6b301d67c"
      },
      "source": [
        "a[0]"
      ],
      "execution_count": null,
      "outputs": [
        {
          "output_type": "execute_result",
          "data": {
            "text/plain": [
              "0.0"
            ]
          },
          "metadata": {
            "tags": []
          },
          "execution_count": 35
        }
      ]
    },
    {
      "cell_type": "code",
      "metadata": {
        "id": "VpqUvVYh5zoO",
        "outputId": "973e2b67-11ce-4d86-e65f-e390788cece6"
      },
      "source": [
        "a[999]"
      ],
      "execution_count": null,
      "outputs": [
        {
          "output_type": "execute_result",
          "data": {
            "text/plain": [
              "5.0"
            ]
          },
          "metadata": {
            "tags": []
          },
          "execution_count": 36
        }
      ]
    },
    {
      "cell_type": "code",
      "metadata": {
        "id": "4Om1BFHw5zoO"
      },
      "source": [
        ""
      ],
      "execution_count": null,
      "outputs": []
    }
  ]
}